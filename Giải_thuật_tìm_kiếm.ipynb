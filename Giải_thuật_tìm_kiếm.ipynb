{
  "nbformat": 4,
  "nbformat_minor": 0,
  "metadata": {
    "colab": {
      "provenance": [],
      "authorship_tag": "ABX9TyPKcsaTIA/ZSDyfyith7bT5",
      "include_colab_link": true
    },
    "kernelspec": {
      "name": "python3",
      "display_name": "Python 3"
    },
    "language_info": {
      "name": "python"
    }
  },
  "cells": [
    {
      "cell_type": "markdown",
      "metadata": {
        "id": "view-in-github",
        "colab_type": "text"
      },
      "source": [
        "<a href=\"https://colab.research.google.com/github/tuantran5903/-n-OOP/blob/main/Gi%E1%BA%A3i_thu%E1%BA%ADt_t%C3%ACm_ki%E1%BA%BFm.ipynb\" target=\"_parent\"><img src=\"https://colab.research.google.com/assets/colab-badge.svg\" alt=\"Open In Colab\"/></a>"
      ]
    },
    {
      "cell_type": "markdown",
      "source": [
        "# **BFS**"
      ],
      "metadata": {
        "id": "SDuh9tJrwEeP"
      }
    },
    {
      "cell_type": "code",
      "source": [
        "from collections import defaultdict\n",
        "class Graph:\n",
        "    def __init__(self):\n",
        "        self.graph=defaultdict(list)\n",
        "    def addEdge(self,u,v):\n",
        "        self.graph[u].append(v)\n",
        "    def BFS(self, start):\n",
        "        queue=[]\n",
        "        visited=set()\n",
        "        queue.append(start)\n",
        "        visited.add(start)\n",
        "        while queue:\n",
        "            start=queue.pop(0)\n",
        "            print(start, end=\" \")\n",
        "            for i in self.graph[start]:\n",
        "                if i not in visited:\n",
        "                    queue.append(i)\n",
        "                    visited.add(i)\n",
        "g = Graph()\n",
        "g.addEdge(0, 1)\n",
        "g.addEdge(0, 2)\n",
        "g.addEdge(1, 2)\n",
        "g.addEdge(2, 0)\n",
        "g.addEdge(2, 3)\n",
        "g.addEdge(3, 3)\n",
        "\n",
        "g.BFS(2)"
      ],
      "metadata": {
        "colab": {
          "base_uri": "https://localhost:8080/"
        },
        "id": "Kg_FID2rwPDv",
        "outputId": "191fab26-777d-40e2-f18d-5cf42a8ab51f"
      },
      "execution_count": 4,
      "outputs": [
        {
          "output_type": "stream",
          "name": "stdout",
          "text": [
            "2 0 3 1 "
          ]
        }
      ]
    },
    {
      "cell_type": "markdown",
      "source": [
        "# **DFS**"
      ],
      "metadata": {
        "id": "rRUhd1z-wj9w"
      }
    },
    {
      "cell_type": "code",
      "source": [
        "from collections import defaultdict\n",
        "class Graph:\n",
        "    def __init__(self):\n",
        "        self.graph=defaultdict(list)\n",
        "    def addEdge(self,u,v):\n",
        "        self.graph[u].append(v)\n",
        "    def dfs(self,start,visited):\n",
        "        visited.add(start)\n",
        "        print(start, end=\" \")\n",
        "\n",
        "        for i in self.graph[start]:\n",
        "            if i not in visited:\n",
        "                self.dfs(i,visited)\n",
        "    def DFS(self,start):\n",
        "        visited=set()\n",
        "        self.dfs(start,visited)\n",
        "g = Graph()\n",
        "g.addEdge(0, 1)\n",
        "g.addEdge(0, 2)\n",
        "g.addEdge(1, 2)\n",
        "g.addEdge(2, 0)\n",
        "g.addEdge(2, 3)\n",
        "g.addEdge(3, 3)\n",
        "\n",
        "g.DFS(2)"
      ],
      "metadata": {
        "colab": {
          "base_uri": "https://localhost:8080/"
        },
        "id": "wrMS0nMHwlHt",
        "outputId": "ce342f27-db16-4ccd-ff31-a63102587297"
      },
      "execution_count": 5,
      "outputs": [
        {
          "output_type": "stream",
          "name": "stdout",
          "text": [
            "2 0 1 3 "
          ]
        }
      ]
    },
    {
      "cell_type": "markdown",
      "source": [
        "# **DLS**"
      ],
      "metadata": {
        "id": "2cQlVdN0w4YX"
      }
    },
    {
      "cell_type": "code",
      "source": [
        "from collections import defaultdict\n",
        "class Graph:\n",
        "    def __init__(self):\n",
        "        self.graph=defaultdict(list)\n",
        "    def addEdge(self,u,v):\n",
        "        self.graph[u].append(v)\n",
        "    def DLS(self, start,target,depth):\n",
        "        if start==target:\n",
        "            return True\n",
        "        if depth<=0:\n",
        "            return False\n",
        "        for i in self.graph[start]:\n",
        "            if self.DLS(i,target,depth-1):\n",
        "                return True\n",
        "        return False"
      ],
      "metadata": {
        "id": "8L9bXBJCw4oz"
      },
      "execution_count": null,
      "outputs": []
    },
    {
      "cell_type": "markdown",
      "source": [
        "# **IDS**"
      ],
      "metadata": {
        "id": "8O5p67LAxE0N"
      }
    },
    {
      "cell_type": "code",
      "source": [
        "from collections import defaultdict\n",
        "class Graph:\n",
        "    def __init__(self):\n",
        "        self.graph=defaultdict(list)\n",
        "    def addEdge(self,u,v):\n",
        "        self.graph[u].append(v)\n",
        "    def DLS(self, start,target,depth):\n",
        "        if start==target:\n",
        "            return True\n",
        "        if depth<=0:\n",
        "            return False\n",
        "        for i in self.graph[start]:\n",
        "            if self.DLS(i,target,depth-1):\n",
        "                return True\n",
        "        return False\n",
        "    def IDS (self,start,target,depth):\n",
        "        for i in range(depth+1):\n",
        "            if self.DLS(start,target,i):\n",
        "                return True\n",
        "        return False"
      ],
      "metadata": {
        "id": "hdxbiqihxE_D"
      },
      "execution_count": null,
      "outputs": []
    },
    {
      "cell_type": "markdown",
      "source": [
        "# **UCS**"
      ],
      "metadata": {
        "id": "D5KSM749xOzz"
      }
    },
    {
      "cell_type": "code",
      "source": [
        "from collections import defaultdict\n",
        "import heapq\n",
        "class Graph:\n",
        "    def __init__(self):\n",
        "        self.graph=defaultdict(list)\n",
        "    def add_edge(self,u,v,cost):\n",
        "        self.graph[u].append((v,cost))\n",
        "    def UCS(self,start,end):\n",
        "        visited=set()\n",
        "        priority_queue=[(0,start)]\n",
        "\n",
        "        while priority_queue:\n",
        "            cost,vertex=heapq.heappop(priority_queue)\n",
        "            if (vertex==end):\n",
        "                return cost\n",
        "            if vertex not in visited:\n",
        "                visited.add(vertex)\n",
        "                for i,j in self.graph[vertex]:\n",
        "                    heapq.heappush(priority_queue,(cost+j,i))\n",
        "\n",
        "graph = Graph()\n",
        "graph.add_edge('A', 'B', 4)\n",
        "graph.add_edge('A', 'C', 2)\n",
        "graph.add_edge('B', 'C', 5)\n",
        "graph.add_edge('B', 'D', 10)\n",
        "graph.add_edge('C', 'D', 3)\n",
        "graph.add_edge('D', 'E', 7)\n",
        "graph.add_edge('E', 'E', 0)\n",
        "\n",
        "print(graph.UCS('A', 'E'))"
      ],
      "metadata": {
        "colab": {
          "base_uri": "https://localhost:8080/"
        },
        "id": "U_tZ4MyXx0Zp",
        "outputId": "40bacfa3-1a0c-4e7e-fe61-46361dbd9ec3"
      },
      "execution_count": 6,
      "outputs": [
        {
          "output_type": "stream",
          "name": "stdout",
          "text": [
            "12\n"
          ]
        }
      ]
    }
  ]
}